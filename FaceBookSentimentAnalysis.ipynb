{
  "cells": [
    {
      "cell_type": "code",
      "execution_count": null,
      "metadata": {
        "colab": {
          "base_uri": "https://localhost:8080/"
        },
        "id": "mt0eWEwgoKTo",
        "outputId": "238e9143-d7eb-4800-d77e-e8a26c34d6f5"
      },
      "outputs": [],
      "source": [
        "pip install pandas"
      ]
    },
    {
      "cell_type": "code",
      "execution_count": null,
      "metadata": {
        "colab": {
          "base_uri": "https://localhost:8080/"
        },
        "id": "jEsPDiU6oj4S",
        "outputId": "79c264ec-6305-4928-c0c5-6bb375aeb411"
      },
      "outputs": [],
      "source": [
        "pip install nltk"
      ]
    },
    {
      "cell_type": "code",
      "execution_count": 3,
      "metadata": {
        "id": "2t8l7eCSophL"
      },
      "outputs": [],
      "source": [
        "import pandas as pd\n",
        "import nltk"
      ]
    },
    {
      "cell_type": "code",
      "execution_count": 13,
      "metadata": {
        "id": "xOtD9N6Xo_6S"
      },
      "outputs": [],
      "source": [
        "from nltk.sentiment.vader import SentimentIntensityAnalyzer"
      ]
    },
    {
      "cell_type": "code",
      "execution_count": null,
      "metadata": {
        "colab": {
          "base_uri": "https://localhost:8080/"
        },
        "id": "4EVOd4_DpNVm",
        "outputId": "03d811c5-77c1-4f22-9c42-7f0189f366d9"
      },
      "outputs": [],
      "source": [
        "nltk.downloader.download('vader_lexicon')"
      ]
    },
    {
      "cell_type": "code",
      "execution_count": 7,
      "metadata": {
        "id": "c4qbaK_dps7P"
      },
      "outputs": [],
      "source": [
        "file=\"FcaebookPosts.xlsx\""
      ]
    },
    {
      "cell_type": "code",
      "execution_count": null,
      "metadata": {
        "id": "elQoPV2eq6wj"
      },
      "outputs": [],
      "source": []
    },
    {
      "cell_type": "code",
      "execution_count": 8,
      "metadata": {
        "id": "DSieWqdCqZy0"
      },
      "outputs": [],
      "source": [
        "xl=pd.ExcelFile(file)"
      ]
    },
    {
      "cell_type": "code",
      "execution_count": 9,
      "metadata": {
        "id": "7Gbhfor6qrMh"
      },
      "outputs": [],
      "source": [
        "dfs=xl.parse(xl.sheet_names[0])"
      ]
    },
    {
      "cell_type": "code",
      "execution_count": 10,
      "metadata": {
        "id": "jNtfkbKWrWDo"
      },
      "outputs": [],
      "source": [
        "dfs=list(dfs['Timeline'])"
      ]
    },
    {
      "cell_type": "code",
      "execution_count": null,
      "metadata": {
        "colab": {
          "base_uri": "https://localhost:8080/"
        },
        "id": "SLFIptU6v8D4",
        "outputId": "d268f4bd-1a87-4513-9e04-e5239a50af1f"
      },
      "outputs": [],
      "source": [
        "print(dfs)"
      ]
    },
    {
      "cell_type": "code",
      "execution_count": 14,
      "metadata": {
        "id": "TYoRLCoJwwsD"
      },
      "outputs": [],
      "source": [
        "sid=SentimentIntensityAnalyzer()"
      ]
    },
    {
      "cell_type": "code",
      "execution_count": null,
      "metadata": {
        "colab": {
          "base_uri": "https://localhost:8080/"
        },
        "id": "yhYc9jyxw7DN",
        "outputId": "2436d63b-a0cf-4d00-c82f-7801e7c4bab6"
      },
      "outputs": [],
      "source": [
        "for data in dfs:\n",
        "  ss=sid.polarity_scores(data)\n",
        "  print(data)\n",
        "  for k in ss:\n",
        "    print(k,ss[k])"
      ]
    },
    {
      "cell_type": "code",
      "execution_count": null,
      "metadata": {
        "id": "hPO7tw882cWr"
      },
      "outputs": [],
      "source": []
    },
    {
      "cell_type": "code",
      "execution_count": null,
      "metadata": {
        "id": "HXxYASvfwCjw"
      },
      "outputs": [],
      "source": []
    },
    {
      "cell_type": "code",
      "execution_count": null,
      "metadata": {
        "id": "ClbQOqBvpcH1"
      },
      "outputs": [],
      "source": []
    }
  ],
  "metadata": {
    "colab": {
      "provenance": []
    },
    "kernelspec": {
      "display_name": "Python 3",
      "name": "python3"
    },
    "language_info": {
      "name": "python"
    }
  },
  "nbformat": 4,
  "nbformat_minor": 0
}
